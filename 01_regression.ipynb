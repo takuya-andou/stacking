{
 "cells": [
  {
   "cell_type": "markdown",
   "metadata": {},
   "source": [
    "# Regression\n",
    "***"
   ]
  },
  {
   "cell_type": "markdown",
   "metadata": {},
   "source": [
    "# Import Packages"
   ]
  },
  {
   "cell_type": "code",
   "execution_count": 10,
   "metadata": {},
   "outputs": [],
   "source": [
    "# for creating dataset\n",
    "from sklearn.datasets import load_boston\n",
    "\n",
    "# general import\n",
    "import pandas as pd\n",
    "import numpy as np\n",
    "from sklearn.metrics import mean_absolute_error\n",
    "\n",
    "# this package\n",
    "from stack import StackModel, StackMaster\n",
    "\n",
    "# models\n",
    "from sklearn.linear_model import LinearRegression, Ridge, Lasso\n",
    "from sklearn.ensemble import RandomForestRegressor, ExtraTreesRegressor\n",
    "from xgboost import XGBRegressor"
   ]
  },
  {
   "cell_type": "markdown",
   "metadata": {},
   "source": [
    "# Create dataset"
   ]
  },
  {
   "cell_type": "code",
   "execution_count": 11,
   "metadata": {},
   "outputs": [],
   "source": [
    "# load data\n",
    "boston = load_boston()\n",
    "\n",
    "# convert pandas dataframe\n",
    "all_df = pd.DataFrame(boston.data, columns=boston.feature_names)\n",
    "all_df['PRICE'] = boston.target\n",
    "\n",
    "# split data for train and test\n",
    "train = all_df.sample(frac=0.8, random_state=0)\n",
    "test = all_df.drop(train.index)\n",
    "\n",
    "# drop target column from test dataframe\n",
    "test_y = test.PRICE\n",
    "test = test.drop('PRICE', axis=1)"
   ]
  },
  {
   "cell_type": "markdown",
   "metadata": {},
   "source": [
    "# Fit stage 1 models"
   ]
  },
  {
   "cell_type": "code",
   "execution_count": null,
   "metadata": {},
   "outputs": [
    {
     "name": "stderr",
     "output_type": "stream",
     "text": [
      "2019-09-21 13:02:01,218 - stack - INFO - LinearRegression start fit\n",
      "2019-09-21 13:02:01,281 - stack - INFO - LinearRegression end fit\n",
      "2019-09-21 13:02:01,288 - stack - INFO - LinearRegression save fit pkl\n",
      "2019-09-21 13:02:01,292 - stack - INFO - Ridge start fit\n",
      "2019-09-21 13:02:01,408 - stack - INFO - Ridge end fit\n",
      "2019-09-21 13:02:01,438 - stack - INFO - Ridge save fit pkl\n",
      "2019-09-21 13:02:01,446 - stack - INFO - Lasso start fit\n",
      "2019-09-21 13:02:01,539 - stack - INFO - Lasso end fit\n",
      "2019-09-21 13:02:01,543 - stack - INFO - Lasso save fit pkl\n",
      "2019-09-21 13:02:01,544 - stack - INFO - RandomForestRegressor start fit\n"
     ]
    }
   ],
   "source": [
    "# initialize models\n",
    "models_1 = [\n",
    "    StackModel(\n",
    "        model_name='LinearRegression',\n",
    "        model=LinearRegression,\n",
    "        x_names=['CRIM', 'ZN', 'INDUS', 'CHAS'],\n",
    "        y_names='PRICE'),\n",
    "    StackModel(\n",
    "        model_name='Ridge',\n",
    "        model=Ridge,\n",
    "        x_names=['NOX', 'RM', 'AGE', 'DIS'],\n",
    "        y_names='PRICE'),\n",
    "    StackModel(\n",
    "        model_name='Lasso',\n",
    "        model=Lasso,\n",
    "        x_names=['RAD', 'TAX', 'PTRATIO', 'B'],\n",
    "        y_names='PRICE'),\n",
    "    StackModel(\n",
    "        model_name='RandomForestRegressor',\n",
    "        model=RandomForestRegressor,\n",
    "        x_names=boston.feature_names,\n",
    "        y_names='PRICE',\n",
    "        params={'random_state': 0, 'n_jobs': -1, 'n_estimators': 100, 'max_depth': 3}),\n",
    "    StackModel(\n",
    "        model_name='ExtraTreesRegressor',\n",
    "        model=ExtraTreesRegressor,\n",
    "        x_names=boston.feature_names,\n",
    "        y_names='PRICE',\n",
    "        params={'random_state': 0, 'n_jobs': -1, 'n_estimators': 100, 'max_depth': 3})\n",
    "]\n",
    "\n",
    "# fit models\n",
    "master = StackMaster(models=models_1)\n",
    "master.fit(train, refit=True)"
   ]
  },
  {
   "cell_type": "code",
   "execution_count": null,
   "metadata": {},
   "outputs": [],
   "source": [
    "# look at the predicted train data\n",
    "master.train_pred.head()"
   ]
  },
  {
   "cell_type": "markdown",
   "metadata": {},
   "source": [
    "# Fit Stage 2 model"
   ]
  },
  {
   "cell_type": "code",
   "execution_count": null,
   "metadata": {},
   "outputs": [],
   "source": [
    "# initialize model\n",
    "model_2 = StackModel(\n",
    "    model_name='XGBRegressor', \n",
    "    model=XGBRegressor, \n",
    "    x_names=master.train_pred.columns, \n",
    "    y_names='PRICE', \n",
    "    params={'random_state': 0, 'n_jobs': -1, 'n_estimators': 100, 'max_depth': 3})\n",
    "\n",
    "# make data for stage 2\n",
    "train_2 = pd.concat([master.train_pred, train.PRICE], axis=1)\n",
    "\n",
    "# fit model\n",
    "model_2.fit(train_2, refit=True)"
   ]
  },
  {
   "cell_type": "markdown",
   "metadata": {},
   "source": [
    "# Predict test data"
   ]
  },
  {
   "cell_type": "code",
   "execution_count": null,
   "metadata": {},
   "outputs": [],
   "source": [
    "master.predict(test, repredict=True)\n",
    "model_2.predict(master.test_pred, repredict=True)"
   ]
  },
  {
   "cell_type": "code",
   "execution_count": null,
   "metadata": {},
   "outputs": [],
   "source": [
    "# MAE for test data\n",
    "print('Stage 1 : LinearRegression')\n",
    "print('                    {:.4f}'.format(mean_absolute_error(test_y, master.test_pred.LinearRegression)))\n",
    "print('Stage 1 : Ridge')\n",
    "print('                    {:.4f}'.format(mean_absolute_error(test_y, master.test_pred.Ridge)))\n",
    "print('Stage 1 : Lasso')\n",
    "print('                    {:.4f}'.format(mean_absolute_error(test_y, master.test_pred.Lasso)))\n",
    "print('Stage 1 : RandomForestRegressor')\n",
    "print('                    {:.4f}'.format(mean_absolute_error(test_y, master.test_pred.RandomForestRegressor)))\n",
    "print('Stage 1 : ExtraTreesRegressor')\n",
    "print('                    {:.4f}'.format(mean_absolute_error(test_y, master.test_pred.ExtraTreesRegressor)))\n",
    "print('Stage 2 : XGBRegressor')\n",
    "print('                    {:.4f}'.format(mean_absolute_error(test_y, model_2.test_pred)))"
   ]
  },
  {
   "cell_type": "code",
   "execution_count": null,
   "metadata": {},
   "outputs": [],
   "source": []
  }
 ],
 "metadata": {
  "kernelspec": {
   "display_name": "Python 3",
   "language": "python",
   "name": "python3"
  },
  "language_info": {
   "codemirror_mode": {
    "name": "ipython",
    "version": 3
   },
   "file_extension": ".py",
   "mimetype": "text/x-python",
   "name": "python",
   "nbconvert_exporter": "python",
   "pygments_lexer": "ipython3",
   "version": "3.7.0"
  }
 },
 "nbformat": 4,
 "nbformat_minor": 2
}

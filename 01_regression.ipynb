{
 "cells": [
  {
   "cell_type": "markdown",
   "metadata": {},
   "source": [
    "# Regression\n",
    "***"
   ]
  },
  {
   "cell_type": "markdown",
   "metadata": {},
   "source": [
    "# Import Packages"
   ]
  },
  {
   "cell_type": "code",
   "execution_count": 1,
   "metadata": {},
   "outputs": [],
   "source": [
    "# for creating dataset\n",
    "from sklearn.datasets import load_boston\n",
    "\n",
    "# general import\n",
    "import pandas as pd\n",
    "import numpy as np\n",
    "from sklearn.metrics import mean_absolute_error\n",
    "\n",
    "# this package\n",
    "from stack import StackModel, StackMaster\n",
    "\n",
    "# models\n",
    "from sklearn.linear_model import LinearRegression, Ridge, Lasso\n",
    "from sklearn.ensemble import RandomForestRegressor, ExtraTreesRegressor\n",
    "from xgboost import XGBRegressor"
   ]
  },
  {
   "cell_type": "markdown",
   "metadata": {},
   "source": [
    "# Create dataset"
   ]
  },
  {
   "cell_type": "code",
   "execution_count": 2,
   "metadata": {},
   "outputs": [],
   "source": [
    "# load data\n",
    "boston = load_boston()\n",
    "\n",
    "# convert pandas dataframe\n",
    "all_df = pd.DataFrame(boston.data, columns=boston.feature_names)\n",
    "all_df['PRICE'] = boston.target\n",
    "\n",
    "# split data for train and test\n",
    "train = all_df.sample(frac=0.8, random_state=0)\n",
    "test = all_df.drop(train.index)\n",
    "\n",
    "# drop target column from test dataframe\n",
    "test_y = test.PRICE\n",
    "test = test.drop('PRICE', axis=1)"
   ]
  },
  {
   "cell_type": "markdown",
   "metadata": {},
   "source": [
    "# Fit stage 1 models"
   ]
  },
  {
   "cell_type": "code",
   "execution_count": 3,
   "metadata": {},
   "outputs": [
    {
     "name": "stderr",
     "output_type": "stream",
     "text": [
      "2019-09-21 13:05:54,145 - stack - INFO - LinearRegression start fit\n",
      "2019-09-21 13:05:54,225 - stack - INFO - LinearRegression end fit\n",
      "2019-09-21 13:05:54,238 - stack - INFO - LinearRegression save fit pkl\n",
      "2019-09-21 13:05:54,244 - stack - INFO - Ridge start fit\n",
      "2019-09-21 13:05:54,339 - stack - INFO - Ridge end fit\n",
      "2019-09-21 13:05:54,346 - stack - INFO - Ridge save fit pkl\n",
      "2019-09-21 13:05:54,349 - stack - INFO - Lasso start fit\n",
      "2019-09-21 13:05:54,551 - stack - INFO - Lasso end fit\n",
      "2019-09-21 13:05:54,554 - stack - INFO - Lasso save fit pkl\n",
      "2019-09-21 13:05:54,555 - stack - INFO - RandomForestRegressor start fit\n",
      "2019-09-21 13:05:55,846 - stack - INFO - RandomForestRegressor end fit\n",
      "2019-09-21 13:05:55,929 - stack - INFO - RandomForestRegressor save fit pkl\n",
      "2019-09-21 13:05:55,929 - stack - INFO - ExtraTreesRegressor start fit\n",
      "2019-09-21 13:05:57,207 - stack - INFO - ExtraTreesRegressor end fit\n",
      "2019-09-21 13:05:57,242 - stack - INFO - ExtraTreesRegressor save fit pkl\n"
     ]
    }
   ],
   "source": [
    "# initialize models\n",
    "models_1 = [\n",
    "    StackModel(\n",
    "        model_name='LinearRegression',\n",
    "        model=LinearRegression,\n",
    "        x_names=['CRIM', 'ZN', 'INDUS', 'CHAS'],\n",
    "        y_names='PRICE'),\n",
    "    StackModel(\n",
    "        model_name='Ridge',\n",
    "        model=Ridge,\n",
    "        x_names=['NOX', 'RM', 'AGE', 'DIS'],\n",
    "        y_names='PRICE'),\n",
    "    StackModel(\n",
    "        model_name='Lasso',\n",
    "        model=Lasso,\n",
    "        x_names=['RAD', 'TAX', 'PTRATIO', 'B'],\n",
    "        y_names='PRICE'),\n",
    "    StackModel(\n",
    "        model_name='RandomForestRegressor',\n",
    "        model=RandomForestRegressor,\n",
    "        x_names=boston.feature_names,\n",
    "        y_names='PRICE',\n",
    "        params={'random_state': 0, 'n_jobs': -1, 'n_estimators': 100, 'max_depth': 3}),\n",
    "    StackModel(\n",
    "        model_name='ExtraTreesRegressor',\n",
    "        model=ExtraTreesRegressor,\n",
    "        x_names=boston.feature_names,\n",
    "        y_names='PRICE',\n",
    "        params={'random_state': 0, 'n_jobs': -1, 'n_estimators': 100, 'max_depth': 3})\n",
    "]\n",
    "\n",
    "# fit models\n",
    "master = StackMaster(models=models_1)\n",
    "master.fit(train, refit=True)"
   ]
  },
  {
   "cell_type": "code",
   "execution_count": 4,
   "metadata": {},
   "outputs": [
    {
     "data": {
      "text/html": [
       "<div>\n",
       "<style scoped>\n",
       "    .dataframe tbody tr th:only-of-type {\n",
       "        vertical-align: middle;\n",
       "    }\n",
       "\n",
       "    .dataframe tbody tr th {\n",
       "        vertical-align: top;\n",
       "    }\n",
       "\n",
       "    .dataframe thead th {\n",
       "        text-align: right;\n",
       "    }\n",
       "</style>\n",
       "<table border=\"1\" class=\"dataframe\">\n",
       "  <thead>\n",
       "    <tr style=\"text-align: right;\">\n",
       "      <th></th>\n",
       "      <th>LinearRegression</th>\n",
       "      <th>Ridge</th>\n",
       "      <th>Lasso</th>\n",
       "      <th>RandomForestRegressor</th>\n",
       "      <th>ExtraTreesRegressor</th>\n",
       "    </tr>\n",
       "  </thead>\n",
       "  <tbody>\n",
       "    <tr>\n",
       "      <th>329</th>\n",
       "      <td>26.463475</td>\n",
       "      <td>27.338910</td>\n",
       "      <td>22.085124</td>\n",
       "      <td>24.806773</td>\n",
       "      <td>24.959569</td>\n",
       "    </tr>\n",
       "    <tr>\n",
       "      <th>371</th>\n",
       "      <td>17.277530</td>\n",
       "      <td>20.400825</td>\n",
       "      <td>17.734009</td>\n",
       "      <td>22.576476</td>\n",
       "      <td>21.373683</td>\n",
       "    </tr>\n",
       "    <tr>\n",
       "      <th>219</th>\n",
       "      <td>26.502925</td>\n",
       "      <td>21.642398</td>\n",
       "      <td>28.449293</td>\n",
       "      <td>21.442048</td>\n",
       "      <td>22.897222</td>\n",
       "    </tr>\n",
       "    <tr>\n",
       "      <th>403</th>\n",
       "      <td>13.508535</td>\n",
       "      <td>13.813801</td>\n",
       "      <td>19.194976</td>\n",
       "      <td>13.365689</td>\n",
       "      <td>14.505905</td>\n",
       "    </tr>\n",
       "    <tr>\n",
       "      <th>78</th>\n",
       "      <td>21.516007</td>\n",
       "      <td>23.795082</td>\n",
       "      <td>21.022313</td>\n",
       "      <td>21.005219</td>\n",
       "      <td>21.899043</td>\n",
       "    </tr>\n",
       "  </tbody>\n",
       "</table>\n",
       "</div>"
      ],
      "text/plain": [
       "     LinearRegression      Ridge      Lasso  RandomForestRegressor  \\\n",
       "329         26.463475  27.338910  22.085124              24.806773   \n",
       "371         17.277530  20.400825  17.734009              22.576476   \n",
       "219         26.502925  21.642398  28.449293              21.442048   \n",
       "403         13.508535  13.813801  19.194976              13.365689   \n",
       "78          21.516007  23.795082  21.022313              21.005219   \n",
       "\n",
       "     ExtraTreesRegressor  \n",
       "329            24.959569  \n",
       "371            21.373683  \n",
       "219            22.897222  \n",
       "403            14.505905  \n",
       "78             21.899043  "
      ]
     },
     "execution_count": 4,
     "metadata": {},
     "output_type": "execute_result"
    }
   ],
   "source": [
    "# look at the predicted train data\n",
    "master.train_pred.head()"
   ]
  },
  {
   "cell_type": "markdown",
   "metadata": {},
   "source": [
    "# Fit Stage 2 model"
   ]
  },
  {
   "cell_type": "code",
   "execution_count": 5,
   "metadata": {},
   "outputs": [
    {
     "name": "stderr",
     "output_type": "stream",
     "text": [
      "2019-09-21 13:05:59,222 - stack - INFO - XGBRegressor start fit\n",
      "/Users/KYO/.pyenv/versions/anaconda3-5.3.1/lib/python3.7/site-packages/xgboost/core.py:587: FutureWarning: Series.base is deprecated and will be removed in a future version\n",
      "  if getattr(data, 'base', None) is not None and \\\n",
      "/Users/KYO/.pyenv/versions/anaconda3-5.3.1/lib/python3.7/site-packages/xgboost/core.py:588: FutureWarning: Series.base is deprecated and will be removed in a future version\n",
      "  data.base is not None and isinstance(data, np.ndarray) \\\n",
      "2019-09-21 13:05:59,406 - stack - INFO - XGBRegressor end fit\n",
      "2019-09-21 13:05:59,411 - stack - INFO - XGBRegressor save fit pkl\n"
     ]
    },
    {
     "name": "stdout",
     "output_type": "stream",
     "text": [
      "[13:05:59] WARNING: src/objective/regression_obj.cu:152: reg:linear is now deprecated in favor of reg:squarederror.\n",
      "[13:05:59] WARNING: src/objective/regression_obj.cu:152: reg:linear is now deprecated in favor of reg:squarederror.\n",
      "[13:05:59] WARNING: src/objective/regression_obj.cu:152: reg:linear is now deprecated in favor of reg:squarederror.\n",
      "[13:05:59] WARNING: src/objective/regression_obj.cu:152: reg:linear is now deprecated in favor of reg:squarederror.\n",
      "[13:05:59] WARNING: src/objective/regression_obj.cu:152: reg:linear is now deprecated in favor of reg:squarederror.\n"
     ]
    }
   ],
   "source": [
    "# initialize model\n",
    "model_2 = StackModel(\n",
    "    model_name='XGBRegressor', \n",
    "    model=XGBRegressor, \n",
    "    x_names=master.train_pred.columns, \n",
    "    y_names='PRICE', \n",
    "    params={'random_state': 0, 'n_jobs': -1, 'n_estimators': 100, 'max_depth': 3})\n",
    "\n",
    "# make data for stage 2\n",
    "train_2 = pd.concat([master.train_pred, train.PRICE], axis=1)\n",
    "\n",
    "# fit model\n",
    "model_2.fit(train_2, refit=True)"
   ]
  },
  {
   "cell_type": "markdown",
   "metadata": {},
   "source": [
    "# Predict test data"
   ]
  },
  {
   "cell_type": "code",
   "execution_count": 6,
   "metadata": {},
   "outputs": [
    {
     "name": "stderr",
     "output_type": "stream",
     "text": [
      "2019-09-21 13:06:00,410 - stack - INFO - LinearRegression start predict\n",
      "2019-09-21 13:06:00,424 - stack - INFO - LinearRegression end predict\n",
      "2019-09-21 13:06:00,426 - stack - INFO - LinearRegression save pred pkl\n",
      "2019-09-21 13:06:00,427 - stack - INFO - Ridge start predict\n",
      "2019-09-21 13:06:00,440 - stack - INFO - Ridge end predict\n",
      "2019-09-21 13:06:00,447 - stack - INFO - Ridge save pred pkl\n",
      "2019-09-21 13:06:00,453 - stack - INFO - Lasso start predict\n",
      "2019-09-21 13:06:00,473 - stack - INFO - Lasso end predict\n",
      "2019-09-21 13:06:00,477 - stack - INFO - Lasso save pred pkl\n",
      "2019-09-21 13:06:00,479 - stack - INFO - RandomForestRegressor start predict\n",
      "2019-09-21 13:06:01,051 - stack - INFO - RandomForestRegressor end predict\n",
      "2019-09-21 13:06:01,053 - stack - INFO - RandomForestRegressor save pred pkl\n",
      "2019-09-21 13:06:01,054 - stack - INFO - ExtraTreesRegressor start predict\n",
      "2019-09-21 13:06:01,592 - stack - INFO - ExtraTreesRegressor end predict\n",
      "2019-09-21 13:06:01,594 - stack - INFO - ExtraTreesRegressor save pred pkl\n",
      "2019-09-21 13:06:01,600 - stack - INFO - XGBRegressor start predict\n",
      "2019-09-21 13:06:01,620 - stack - INFO - XGBRegressor end predict\n",
      "2019-09-21 13:06:01,622 - stack - INFO - XGBRegressor save pred pkl\n"
     ]
    }
   ],
   "source": [
    "master.predict(test, repredict=True)\n",
    "model_2.predict(master.test_pred, repredict=True)"
   ]
  },
  {
   "cell_type": "code",
   "execution_count": 7,
   "metadata": {},
   "outputs": [
    {
     "name": "stdout",
     "output_type": "stream",
     "text": [
      "Stage 1 : LinearRegression\n",
      "                    5.2088\n",
      "Stage 1 : Ridge\n",
      "                    4.0497\n",
      "Stage 1 : Lasso\n",
      "                    5.4300\n",
      "Stage 1 : RandomForestRegressor\n",
      "                    2.7109\n",
      "Stage 1 : ExtraTreesRegressor\n",
      "                    2.8769\n",
      "Stage 2 : XGBRegressor\n",
      "                    2.4902\n"
     ]
    }
   ],
   "source": [
    "# MAE for test data\n",
    "print('Stage 1 : LinearRegression')\n",
    "print('                    {:.4f}'.format(mean_absolute_error(test_y, master.test_pred.LinearRegression)))\n",
    "print('Stage 1 : Ridge')\n",
    "print('                    {:.4f}'.format(mean_absolute_error(test_y, master.test_pred.Ridge)))\n",
    "print('Stage 1 : Lasso')\n",
    "print('                    {:.4f}'.format(mean_absolute_error(test_y, master.test_pred.Lasso)))\n",
    "print('Stage 1 : RandomForestRegressor')\n",
    "print('                    {:.4f}'.format(mean_absolute_error(test_y, master.test_pred.RandomForestRegressor)))\n",
    "print('Stage 1 : ExtraTreesRegressor')\n",
    "print('                    {:.4f}'.format(mean_absolute_error(test_y, master.test_pred.ExtraTreesRegressor)))\n",
    "print('Stage 2 : XGBRegressor')\n",
    "print('                    {:.4f}'.format(mean_absolute_error(test_y, model_2.test_pred)))"
   ]
  }
 ],
 "metadata": {
  "kernelspec": {
   "display_name": "Python 3",
   "language": "python",
   "name": "python3"
  },
  "language_info": {
   "codemirror_mode": {
    "name": "ipython",
    "version": 3
   },
   "file_extension": ".py",
   "mimetype": "text/x-python",
   "name": "python",
   "nbconvert_exporter": "python",
   "pygments_lexer": "ipython3",
   "version": "3.7.0"
  }
 },
 "nbformat": 4,
 "nbformat_minor": 2
}

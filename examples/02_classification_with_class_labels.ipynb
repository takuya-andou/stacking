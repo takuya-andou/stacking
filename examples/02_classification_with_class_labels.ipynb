{
 "cells": [
  {
   "cell_type": "markdown",
   "metadata": {},
   "source": [
    "# Regression\n",
    "***"
   ]
  },
  {
   "cell_type": "markdown",
   "metadata": {},
   "source": [
    "# Import Packages"
   ]
  },
  {
   "cell_type": "code",
   "execution_count": 1,
   "metadata": {},
   "outputs": [],
   "source": [
    "# for creating dataset\n",
    "from sklearn.datasets import load_iris\n",
    "from sklearn.model_selection import train_test_split\n",
    "\n",
    "# general import\n",
    "import pandas as pd\n",
    "import numpy as np\n",
    "from sklearn.metrics import accuracy_score\n",
    "\n",
    "# this package\n",
    "from stack import StackModel, StackMaster\n",
    "\n",
    "# models\n",
    "from sklearn.discriminant_analysis import LinearDiscriminantAnalysis\n",
    "from sklearn.naive_bayes import GaussianNB\n",
    "from sklearn.svm import SVC\n",
    "from sklearn.ensemble import RandomForestClassifier, ExtraTreesClassifier\n",
    "from xgboost import XGBClassifier"
   ]
  },
  {
   "cell_type": "markdown",
   "metadata": {},
   "source": [
    "# Create dataset"
   ]
  },
  {
   "cell_type": "code",
   "execution_count": 2,
   "metadata": {},
   "outputs": [],
   "source": [
    "iris = load_iris()\n",
    "X, y = iris.data, iris.target\n",
    "\n",
    "# Make train/test split\n",
    "# As usual in machine learning task we have X_train, y_train, and X_test\n",
    "X_train, X_test, y_train, y_test = train_test_split(X, y, test_size=0.2, random_state=0)\n",
    "\n",
    "# convert pandas dataframe or series\n",
    "X_train = pd.DataFrame(X_train, columns=iris.feature_names)\n",
    "X_test = pd.DataFrame(X_test, columns=iris.feature_names)\n",
    "y_train = pd.Series(y_train, name='species')\n",
    "y_test = pd.Series(y_test, name='species')"
   ]
  },
  {
   "cell_type": "markdown",
   "metadata": {},
   "source": [
    "# Fit stage 1 models"
   ]
  },
  {
   "cell_type": "code",
   "execution_count": 3,
   "metadata": {},
   "outputs": [
    {
     "name": "stderr",
     "output_type": "stream",
     "text": [
      "2019-09-21 16:07:54,577 - stack - INFO - LinearDiscriminantAnalysis start fit\n",
      "2019-09-21 16:07:54,645 - stack - INFO - LinearDiscriminantAnalysis end fit\n",
      "2019-09-21 16:07:54,650 - stack - INFO - LinearDiscriminantAnalysis save fit pkl\n",
      "2019-09-21 16:07:54,651 - stack - INFO - GaussianNB start fit\n",
      "2019-09-21 16:07:54,761 - stack - INFO - GaussianNB end fit\n",
      "2019-09-21 16:07:54,764 - stack - INFO - GaussianNB save fit pkl\n",
      "2019-09-21 16:07:54,765 - stack - INFO - SVC start fit\n",
      "2019-09-21 16:07:54,859 - stack - INFO - SVC end fit\n",
      "2019-09-21 16:07:54,866 - stack - INFO - SVC save fit pkl\n",
      "2019-09-21 16:07:54,866 - stack - INFO - RandomForestClassifier start fit\n",
      "2019-09-21 16:07:56,403 - stack - INFO - RandomForestClassifier end fit\n",
      "2019-09-21 16:07:56,441 - stack - INFO - RandomForestClassifier save fit pkl\n",
      "2019-09-21 16:07:56,443 - stack - INFO - ExtraTreesClassifier start fit\n",
      "2019-09-21 16:07:57,827 - stack - INFO - ExtraTreesClassifier end fit\n",
      "2019-09-21 16:07:57,861 - stack - INFO - ExtraTreesClassifier save fit pkl\n"
     ]
    }
   ],
   "source": [
    "# initialize models\n",
    "models_1 = [\n",
    "    StackModel(\n",
    "        model_name='LinearDiscriminantAnalysis',\n",
    "        model=LinearDiscriminantAnalysis,\n",
    "        x_names=['sepal length (cm)', 'sepal width (cm)'], \n",
    "        merge_method='mode'),\n",
    "    StackModel(\n",
    "        model_name='GaussianNB',\n",
    "        model=GaussianNB,\n",
    "        x_names=['sepal length (cm)', 'sepal width (cm)'], \n",
    "        merge_method='mode'),\n",
    "    StackModel(\n",
    "        model_name='SVC',\n",
    "        model=SVC, \n",
    "        x_names=['petal length (cm)'], \n",
    "        merge_method='mode'),\n",
    "    StackModel(\n",
    "        model_name='RandomForestClassifier',\n",
    "        model=RandomForestClassifier,\n",
    "        params={'random_state': 0, 'n_jobs': -1, 'n_estimators': 100, 'max_depth': 3}, \n",
    "        merge_method='mode'),\n",
    "    StackModel(\n",
    "        model_name='ExtraTreesClassifier',\n",
    "        model=ExtraTreesClassifier,\n",
    "        params={'random_state': 0, 'n_jobs': -1, 'n_estimators': 100, 'max_depth': 3}, \n",
    "        merge_method='mode')\n",
    "]\n",
    "\n",
    "# fit models\n",
    "master = StackMaster(models=models_1)\n",
    "master.fit(X_train, y_train, refit=True)"
   ]
  },
  {
   "cell_type": "code",
   "execution_count": 4,
   "metadata": {},
   "outputs": [
    {
     "data": {
      "text/html": [
       "<div>\n",
       "<style scoped>\n",
       "    .dataframe tbody tr th:only-of-type {\n",
       "        vertical-align: middle;\n",
       "    }\n",
       "\n",
       "    .dataframe tbody tr th {\n",
       "        vertical-align: top;\n",
       "    }\n",
       "\n",
       "    .dataframe thead th {\n",
       "        text-align: right;\n",
       "    }\n",
       "</style>\n",
       "<table border=\"1\" class=\"dataframe\">\n",
       "  <thead>\n",
       "    <tr style=\"text-align: right;\">\n",
       "      <th></th>\n",
       "      <th>LinearDiscriminantAnalysis</th>\n",
       "      <th>GaussianNB</th>\n",
       "      <th>SVC</th>\n",
       "      <th>RandomForestClassifier</th>\n",
       "      <th>ExtraTreesClassifier</th>\n",
       "    </tr>\n",
       "  </thead>\n",
       "  <tbody>\n",
       "    <tr>\n",
       "      <th>0</th>\n",
       "      <td>2</td>\n",
       "      <td>2</td>\n",
       "      <td>2</td>\n",
       "      <td>2</td>\n",
       "      <td>2</td>\n",
       "    </tr>\n",
       "    <tr>\n",
       "      <th>1</th>\n",
       "      <td>1</td>\n",
       "      <td>0</td>\n",
       "      <td>1</td>\n",
       "      <td>1</td>\n",
       "      <td>1</td>\n",
       "    </tr>\n",
       "    <tr>\n",
       "      <th>2</th>\n",
       "      <td>0</td>\n",
       "      <td>0</td>\n",
       "      <td>0</td>\n",
       "      <td>0</td>\n",
       "      <td>0</td>\n",
       "    </tr>\n",
       "    <tr>\n",
       "      <th>3</th>\n",
       "      <td>1</td>\n",
       "      <td>1</td>\n",
       "      <td>1</td>\n",
       "      <td>2</td>\n",
       "      <td>2</td>\n",
       "    </tr>\n",
       "    <tr>\n",
       "      <th>4</th>\n",
       "      <td>2</td>\n",
       "      <td>2</td>\n",
       "      <td>2</td>\n",
       "      <td>2</td>\n",
       "      <td>2</td>\n",
       "    </tr>\n",
       "  </tbody>\n",
       "</table>\n",
       "</div>"
      ],
      "text/plain": [
       "   LinearDiscriminantAnalysis  GaussianNB  SVC  RandomForestClassifier  \\\n",
       "0                           2           2    2                       2   \n",
       "1                           1           0    1                       1   \n",
       "2                           0           0    0                       0   \n",
       "3                           1           1    1                       2   \n",
       "4                           2           2    2                       2   \n",
       "\n",
       "   ExtraTreesClassifier  \n",
       "0                     2  \n",
       "1                     1  \n",
       "2                     0  \n",
       "3                     2  \n",
       "4                     2  "
      ]
     },
     "execution_count": 4,
     "metadata": {},
     "output_type": "execute_result"
    }
   ],
   "source": [
    "# look at the predicted train data\n",
    "master.train_pred.head()"
   ]
  },
  {
   "cell_type": "markdown",
   "metadata": {},
   "source": [
    "# Fit Stage 2 model"
   ]
  },
  {
   "cell_type": "code",
   "execution_count": 5,
   "metadata": {},
   "outputs": [
    {
     "name": "stderr",
     "output_type": "stream",
     "text": [
      "2019-09-21 16:07:58,068 - stack - INFO - XGBClassifier start fit\n",
      "2019-09-21 16:07:58,336 - stack - INFO - XGBClassifier end fit\n",
      "2019-09-21 16:07:58,341 - stack - INFO - XGBClassifier save fit pkl\n"
     ]
    }
   ],
   "source": [
    "# initialize model\n",
    "model_2 = StackModel(\n",
    "    model_name='XGBClassifier', \n",
    "    model=XGBClassifier, \n",
    "    params={'random_state': 0, 'n_jobs': -1, 'n_estimators': 100, 'max_depth': 3}, \n",
    "    merge_method='mode')\n",
    "\n",
    "# fit model\n",
    "model_2.fit(master.train_pred, y_train, refit=True)"
   ]
  },
  {
   "cell_type": "markdown",
   "metadata": {},
   "source": [
    "# Predict test data"
   ]
  },
  {
   "cell_type": "code",
   "execution_count": 6,
   "metadata": {},
   "outputs": [
    {
     "name": "stderr",
     "output_type": "stream",
     "text": [
      "2019-09-21 16:07:58,354 - stack - INFO - LinearDiscriminantAnalysis start predict\n",
      "2019-09-21 16:07:58,399 - stack - INFO - LinearDiscriminantAnalysis end predict\n",
      "2019-09-21 16:07:58,402 - stack - INFO - LinearDiscriminantAnalysis save pred pkl\n",
      "2019-09-21 16:07:58,404 - stack - INFO - GaussianNB start predict\n",
      "2019-09-21 16:07:58,466 - stack - INFO - GaussianNB end predict\n",
      "2019-09-21 16:07:58,482 - stack - INFO - GaussianNB save pred pkl\n",
      "2019-09-21 16:07:58,488 - stack - INFO - SVC start predict\n",
      "2019-09-21 16:07:58,548 - stack - INFO - SVC end predict\n",
      "2019-09-21 16:07:58,554 - stack - INFO - SVC save pred pkl\n",
      "2019-09-21 16:07:58,556 - stack - INFO - RandomForestClassifier start predict\n",
      "2019-09-21 16:07:59,131 - stack - INFO - RandomForestClassifier end predict\n",
      "2019-09-21 16:07:59,133 - stack - INFO - RandomForestClassifier save pred pkl\n",
      "2019-09-21 16:07:59,134 - stack - INFO - ExtraTreesClassifier start predict\n",
      "2019-09-21 16:07:59,671 - stack - INFO - ExtraTreesClassifier end predict\n",
      "2019-09-21 16:07:59,673 - stack - INFO - ExtraTreesClassifier save pred pkl\n",
      "2019-09-21 16:07:59,678 - stack - INFO - XGBClassifier start predict\n",
      "2019-09-21 16:07:59,708 - stack - INFO - XGBClassifier end predict\n",
      "2019-09-21 16:07:59,711 - stack - INFO - XGBClassifier save pred pkl\n"
     ]
    }
   ],
   "source": [
    "master.predict(X_test, repredict=True)\n",
    "model_2.predict(master.test_pred, repredict=True)"
   ]
  },
  {
   "cell_type": "code",
   "execution_count": 7,
   "metadata": {},
   "outputs": [
    {
     "name": "stdout",
     "output_type": "stream",
     "text": [
      "Stage 1 : LinearDiscriminantAnalysis\n",
      "                    0.7333\n",
      "Stage 1 : GaussianNB\n",
      "                    0.7333\n",
      "Stage 1 : SVC\n",
      "                    0.9667\n",
      "Stage 1 : RandomForestClassifier\n",
      "                    0.9667\n",
      "Stage 1 : ExtraTreesClassifier\n",
      "                    0.9667\n",
      "Stage 2 : XGBClassifier\n",
      "                    1.0000\n"
     ]
    }
   ],
   "source": [
    "# MAE for test data\n",
    "print('Stage 1 : LinearDiscriminantAnalysis')\n",
    "print('                    {:.4f}'.format(accuracy_score(y_test, master.test_pred.LinearDiscriminantAnalysis)))\n",
    "print('Stage 1 : GaussianNB')\n",
    "print('                    {:.4f}'.format(accuracy_score(y_test, master.test_pred.GaussianNB)))\n",
    "print('Stage 1 : SVC')\n",
    "print('                    {:.4f}'.format(accuracy_score(y_test, master.test_pred.SVC)))\n",
    "print('Stage 1 : RandomForestClassifier')\n",
    "print('                    {:.4f}'.format(accuracy_score(y_test, master.test_pred.RandomForestClassifier)))\n",
    "print('Stage 1 : ExtraTreesClassifier')\n",
    "print('                    {:.4f}'.format(accuracy_score(y_test, master.test_pred.ExtraTreesClassifier)))\n",
    "print('Stage 2 : XGBClassifier')\n",
    "print('                    {:.4f}'.format(accuracy_score(y_test, model_2.test_pred)))"
   ]
  }
 ],
 "metadata": {
  "kernelspec": {
   "display_name": "Python 3",
   "language": "python",
   "name": "python3"
  },
  "language_info": {
   "codemirror_mode": {
    "name": "ipython",
    "version": 3
   },
   "file_extension": ".py",
   "mimetype": "text/x-python",
   "name": "python",
   "nbconvert_exporter": "python",
   "pygments_lexer": "ipython3",
   "version": "3.7.0"
  }
 },
 "nbformat": 4,
 "nbformat_minor": 2
}

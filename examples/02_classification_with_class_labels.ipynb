{
 "cells": [
  {
   "cell_type": "markdown",
   "metadata": {},
   "source": [
    "# Classification (with class labels)\n",
    "***"
   ]
  },
  {
   "cell_type": "markdown",
   "metadata": {},
   "source": [
    "# Import Packages"
   ]
  },
  {
   "cell_type": "code",
   "execution_count": 1,
   "metadata": {},
   "outputs": [],
   "source": [
    "# for creating dataset\n",
    "from sklearn.datasets import load_iris\n",
    "from sklearn.model_selection import train_test_split\n",
    "\n",
    "# general import\n",
    "import pandas as pd\n",
    "import numpy as np\n",
    "from sklearn.metrics import accuracy_score\n",
    "\n",
    "# this package\n",
    "from stack import StackModel, StackMaster\n",
    "\n",
    "# models\n",
    "from sklearn.discriminant_analysis import LinearDiscriminantAnalysis\n",
    "from sklearn.naive_bayes import GaussianNB\n",
    "from sklearn.svm import SVC\n",
    "from sklearn.ensemble import RandomForestClassifier, ExtraTreesClassifier\n",
    "from xgboost import XGBClassifier"
   ]
  },
  {
   "cell_type": "markdown",
   "metadata": {},
   "source": [
    "# Create dataset"
   ]
  },
  {
   "cell_type": "code",
   "execution_count": 2,
   "metadata": {},
   "outputs": [],
   "source": [
    "iris = load_iris()\n",
    "X, y = iris.data, [iris.target_names[i] for i in iris.target]\n",
    "\n",
    "# Make train/test split\n",
    "# As usual in machine learning task we have X_train, y_train, and X_test\n",
    "X_train, X_test, y_train, y_test = train_test_split(X, y, test_size=0.2, random_state=0)\n",
    "\n",
    "# convert pandas dataframe or series\n",
    "X_train = pd.DataFrame(X_train, columns=iris.feature_names)\n",
    "X_test = pd.DataFrame(X_test, columns=iris.feature_names)\n",
    "y_train = pd.Series(y_train, name='species')\n",
    "y_test = pd.Series(y_test, name='species')"
   ]
  },
  {
   "cell_type": "markdown",
   "metadata": {},
   "source": [
    "# Fit stage 1 models"
   ]
  },
  {
   "cell_type": "code",
   "execution_count": 3,
   "metadata": {},
   "outputs": [
    {
     "name": "stderr",
     "output_type": "stream",
     "text": [
      "2019-09-21 18:14:17,935 - stack - INFO - LinearDiscriminantAnalysis start fit\n",
      "2019-09-21 18:14:17,991 - stack - INFO - LinearDiscriminantAnalysis end fit\n",
      "2019-09-21 18:14:18,000 - stack - INFO - LinearDiscriminantAnalysis save fit pkl\n",
      "2019-09-21 18:14:18,003 - stack - INFO - GaussianNB start fit\n",
      "2019-09-21 18:14:18,092 - stack - INFO - GaussianNB end fit\n",
      "2019-09-21 18:14:18,119 - stack - INFO - GaussianNB save fit pkl\n",
      "2019-09-21 18:14:18,120 - stack - INFO - SVC start fit\n",
      "2019-09-21 18:14:18,198 - stack - INFO - SVC end fit\n",
      "2019-09-21 18:14:18,202 - stack - INFO - SVC save fit pkl\n",
      "2019-09-21 18:14:18,204 - stack - INFO - RandomForestClassifier start fit\n",
      "2019-09-21 18:14:19,865 - stack - INFO - RandomForestClassifier end fit\n",
      "2019-09-21 18:14:19,902 - stack - INFO - RandomForestClassifier save fit pkl\n",
      "2019-09-21 18:14:19,903 - stack - INFO - ExtraTreesClassifier start fit\n",
      "2019-09-21 18:14:21,322 - stack - INFO - ExtraTreesClassifier end fit\n",
      "2019-09-21 18:14:21,356 - stack - INFO - ExtraTreesClassifier save fit pkl\n"
     ]
    }
   ],
   "source": [
    "# initialize models\n",
    "models_1 = [\n",
    "    StackModel(\n",
    "        model_name='LinearDiscriminantAnalysis',\n",
    "        model=LinearDiscriminantAnalysis,\n",
    "        x_names=['sepal length (cm)', 'sepal width (cm)'], \n",
    "        merge_method='mode'),\n",
    "    StackModel(\n",
    "        model_name='GaussianNB',\n",
    "        model=GaussianNB,\n",
    "        x_names=['sepal length (cm)', 'sepal width (cm)'], \n",
    "        merge_method='mode'),\n",
    "    StackModel(\n",
    "        model_name='SVC',\n",
    "        model=SVC, \n",
    "        x_names=['petal length (cm)'], \n",
    "        merge_method='mode'),\n",
    "    StackModel(\n",
    "        model_name='RandomForestClassifier',\n",
    "        model=RandomForestClassifier,\n",
    "        params={'random_state': 0, 'n_jobs': -1, 'n_estimators': 100, 'max_depth': 3}, \n",
    "        merge_method='mode'),\n",
    "    StackModel(\n",
    "        model_name='ExtraTreesClassifier',\n",
    "        model=ExtraTreesClassifier,\n",
    "        params={'random_state': 0, 'n_jobs': -1, 'n_estimators': 100, 'max_depth': 3}, \n",
    "        merge_method='mode')\n",
    "]\n",
    "\n",
    "# fit models\n",
    "master = StackMaster(models=models_1)\n",
    "master.fit(X_train, y_train, refit=True)"
   ]
  },
  {
   "cell_type": "code",
   "execution_count": 4,
   "metadata": {},
   "outputs": [
    {
     "data": {
      "text/html": [
       "<div>\n",
       "<style scoped>\n",
       "    .dataframe tbody tr th:only-of-type {\n",
       "        vertical-align: middle;\n",
       "    }\n",
       "\n",
       "    .dataframe tbody tr th {\n",
       "        vertical-align: top;\n",
       "    }\n",
       "\n",
       "    .dataframe thead th {\n",
       "        text-align: right;\n",
       "    }\n",
       "</style>\n",
       "<table border=\"1\" class=\"dataframe\">\n",
       "  <thead>\n",
       "    <tr style=\"text-align: right;\">\n",
       "      <th></th>\n",
       "      <th>LinearDiscriminantAnalysis</th>\n",
       "      <th>GaussianNB</th>\n",
       "      <th>SVC</th>\n",
       "      <th>RandomForestClassifier</th>\n",
       "      <th>ExtraTreesClassifier</th>\n",
       "    </tr>\n",
       "  </thead>\n",
       "  <tbody>\n",
       "    <tr>\n",
       "      <th>0</th>\n",
       "      <td>virginica</td>\n",
       "      <td>virginica</td>\n",
       "      <td>virginica</td>\n",
       "      <td>virginica</td>\n",
       "      <td>virginica</td>\n",
       "    </tr>\n",
       "    <tr>\n",
       "      <th>1</th>\n",
       "      <td>versicolor</td>\n",
       "      <td>setosa</td>\n",
       "      <td>versicolor</td>\n",
       "      <td>versicolor</td>\n",
       "      <td>versicolor</td>\n",
       "    </tr>\n",
       "    <tr>\n",
       "      <th>2</th>\n",
       "      <td>setosa</td>\n",
       "      <td>setosa</td>\n",
       "      <td>setosa</td>\n",
       "      <td>setosa</td>\n",
       "      <td>setosa</td>\n",
       "    </tr>\n",
       "    <tr>\n",
       "      <th>3</th>\n",
       "      <td>versicolor</td>\n",
       "      <td>versicolor</td>\n",
       "      <td>versicolor</td>\n",
       "      <td>virginica</td>\n",
       "      <td>virginica</td>\n",
       "    </tr>\n",
       "    <tr>\n",
       "      <th>4</th>\n",
       "      <td>virginica</td>\n",
       "      <td>virginica</td>\n",
       "      <td>virginica</td>\n",
       "      <td>virginica</td>\n",
       "      <td>virginica</td>\n",
       "    </tr>\n",
       "  </tbody>\n",
       "</table>\n",
       "</div>"
      ],
      "text/plain": [
       "  LinearDiscriminantAnalysis  GaussianNB         SVC RandomForestClassifier  \\\n",
       "0                  virginica   virginica   virginica              virginica   \n",
       "1                 versicolor      setosa  versicolor             versicolor   \n",
       "2                     setosa      setosa      setosa                 setosa   \n",
       "3                 versicolor  versicolor  versicolor              virginica   \n",
       "4                  virginica   virginica   virginica              virginica   \n",
       "\n",
       "  ExtraTreesClassifier  \n",
       "0            virginica  \n",
       "1           versicolor  \n",
       "2               setosa  \n",
       "3            virginica  \n",
       "4            virginica  "
      ]
     },
     "execution_count": 4,
     "metadata": {},
     "output_type": "execute_result"
    }
   ],
   "source": [
    "# look at the predicted train data\n",
    "master.train_pred.head()"
   ]
  },
  {
   "cell_type": "markdown",
   "metadata": {},
   "source": [
    "# Fit Stage 2 model"
   ]
  },
  {
   "cell_type": "code",
   "execution_count": 5,
   "metadata": {},
   "outputs": [
    {
     "name": "stderr",
     "output_type": "stream",
     "text": [
      "2019-09-21 18:14:21,468 - stack - INFO - XGBClassifier start fit\n",
      "2019-09-21 18:14:21,686 - stack - INFO - XGBClassifier end fit\n",
      "2019-09-21 18:14:21,700 - stack - INFO - XGBClassifier save fit pkl\n"
     ]
    }
   ],
   "source": [
    "# initialize model\n",
    "model_2 = StackModel(\n",
    "    model_name='XGBClassifier', \n",
    "    model=XGBClassifier, \n",
    "    params={'random_state': 0, 'n_jobs': -1, 'n_estimators': 100, 'max_depth': 3}, \n",
    "    merge_method='mode')\n",
    "\n",
    "# fit model\n",
    "model_2.fit(pd.get_dummies(master.train_pred, drop_first=True), y_train, refit=True)"
   ]
  },
  {
   "cell_type": "code",
   "execution_count": 6,
   "metadata": {},
   "outputs": [
    {
     "data": {
      "text/plain": [
       "0     virginica\n",
       "1    versicolor\n",
       "2        setosa\n",
       "3     virginica\n",
       "4     virginica\n",
       "Name: XGBClassifier, dtype: object"
      ]
     },
     "execution_count": 6,
     "metadata": {},
     "output_type": "execute_result"
    }
   ],
   "source": [
    "# look at the predicted train data\n",
    "model_2.train_pred.head()"
   ]
  },
  {
   "cell_type": "markdown",
   "metadata": {},
   "source": [
    "# Predict test data"
   ]
  },
  {
   "cell_type": "code",
   "execution_count": 7,
   "metadata": {},
   "outputs": [
    {
     "name": "stderr",
     "output_type": "stream",
     "text": [
      "2019-09-21 18:14:21,763 - stack - INFO - LinearDiscriminantAnalysis start predict\n",
      "2019-09-21 18:14:21,799 - stack - INFO - LinearDiscriminantAnalysis end predict\n",
      "2019-09-21 18:14:21,828 - stack - INFO - LinearDiscriminantAnalysis save pred pkl\n",
      "2019-09-21 18:14:21,850 - stack - INFO - GaussianNB start predict\n",
      "2019-09-21 18:14:21,865 - stack - INFO - GaussianNB end predict\n",
      "2019-09-21 18:14:21,874 - stack - INFO - GaussianNB save pred pkl\n",
      "2019-09-21 18:14:21,878 - stack - INFO - SVC start predict\n",
      "2019-09-21 18:14:21,917 - stack - INFO - SVC end predict\n",
      "2019-09-21 18:14:21,919 - stack - INFO - SVC save pred pkl\n",
      "2019-09-21 18:14:21,920 - stack - INFO - RandomForestClassifier start predict\n",
      "2019-09-21 18:14:22,482 - stack - INFO - RandomForestClassifier end predict\n",
      "2019-09-21 18:14:22,485 - stack - INFO - RandomForestClassifier save pred pkl\n",
      "2019-09-21 18:14:22,486 - stack - INFO - ExtraTreesClassifier start predict\n",
      "2019-09-21 18:14:23,056 - stack - INFO - ExtraTreesClassifier end predict\n",
      "2019-09-21 18:14:23,059 - stack - INFO - ExtraTreesClassifier save pred pkl\n",
      "2019-09-21 18:14:23,089 - stack - INFO - XGBClassifier start predict\n",
      "2019-09-21 18:14:23,117 - stack - INFO - XGBClassifier end predict\n",
      "2019-09-21 18:14:23,118 - stack - INFO - XGBClassifier save pred pkl\n"
     ]
    }
   ],
   "source": [
    "master.predict(X_test, repredict=True)\n",
    "model_2.predict(pd.get_dummies(master.test_pred, drop_first=True), repredict=True)"
   ]
  },
  {
   "cell_type": "code",
   "execution_count": 8,
   "metadata": {},
   "outputs": [
    {
     "data": {
      "text/html": [
       "<div>\n",
       "<style scoped>\n",
       "    .dataframe tbody tr th:only-of-type {\n",
       "        vertical-align: middle;\n",
       "    }\n",
       "\n",
       "    .dataframe tbody tr th {\n",
       "        vertical-align: top;\n",
       "    }\n",
       "\n",
       "    .dataframe thead th {\n",
       "        text-align: right;\n",
       "    }\n",
       "</style>\n",
       "<table border=\"1\" class=\"dataframe\">\n",
       "  <thead>\n",
       "    <tr style=\"text-align: right;\">\n",
       "      <th></th>\n",
       "      <th>LinearDiscriminantAnalysis</th>\n",
       "      <th>GaussianNB</th>\n",
       "      <th>SVC</th>\n",
       "      <th>RandomForestClassifier</th>\n",
       "      <th>ExtraTreesClassifier</th>\n",
       "    </tr>\n",
       "  </thead>\n",
       "  <tbody>\n",
       "    <tr>\n",
       "      <th>0</th>\n",
       "      <td>versicolor</td>\n",
       "      <td>versicolor</td>\n",
       "      <td>virginica</td>\n",
       "      <td>virginica</td>\n",
       "      <td>virginica</td>\n",
       "    </tr>\n",
       "    <tr>\n",
       "      <th>1</th>\n",
       "      <td>versicolor</td>\n",
       "      <td>versicolor</td>\n",
       "      <td>versicolor</td>\n",
       "      <td>versicolor</td>\n",
       "      <td>versicolor</td>\n",
       "    </tr>\n",
       "    <tr>\n",
       "      <th>2</th>\n",
       "      <td>setosa</td>\n",
       "      <td>setosa</td>\n",
       "      <td>setosa</td>\n",
       "      <td>setosa</td>\n",
       "      <td>setosa</td>\n",
       "    </tr>\n",
       "    <tr>\n",
       "      <th>3</th>\n",
       "      <td>virginica</td>\n",
       "      <td>virginica</td>\n",
       "      <td>virginica</td>\n",
       "      <td>virginica</td>\n",
       "      <td>virginica</td>\n",
       "    </tr>\n",
       "    <tr>\n",
       "      <th>4</th>\n",
       "      <td>setosa</td>\n",
       "      <td>setosa</td>\n",
       "      <td>setosa</td>\n",
       "      <td>setosa</td>\n",
       "      <td>setosa</td>\n",
       "    </tr>\n",
       "  </tbody>\n",
       "</table>\n",
       "</div>"
      ],
      "text/plain": [
       "  LinearDiscriminantAnalysis  GaussianNB         SVC RandomForestClassifier  \\\n",
       "0                 versicolor  versicolor   virginica              virginica   \n",
       "1                 versicolor  versicolor  versicolor             versicolor   \n",
       "2                     setosa      setosa      setosa                 setosa   \n",
       "3                  virginica   virginica   virginica              virginica   \n",
       "4                     setosa      setosa      setosa                 setosa   \n",
       "\n",
       "  ExtraTreesClassifier  \n",
       "0            virginica  \n",
       "1           versicolor  \n",
       "2               setosa  \n",
       "3            virginica  \n",
       "4               setosa  "
      ]
     },
     "execution_count": 8,
     "metadata": {},
     "output_type": "execute_result"
    }
   ],
   "source": [
    "# look at the predicted test data\n",
    "master.test_pred.head()"
   ]
  },
  {
   "cell_type": "code",
   "execution_count": 9,
   "metadata": {},
   "outputs": [
    {
     "data": {
      "text/plain": [
       "0     virginica\n",
       "1    versicolor\n",
       "2        setosa\n",
       "3     virginica\n",
       "4        setosa\n",
       "Name: XGBClassifier, dtype: object"
      ]
     },
     "execution_count": 9,
     "metadata": {},
     "output_type": "execute_result"
    }
   ],
   "source": [
    "# look at the predicted test data\n",
    "model_2.test_pred.head()"
   ]
  },
  {
   "cell_type": "code",
   "execution_count": 10,
   "metadata": {},
   "outputs": [
    {
     "name": "stdout",
     "output_type": "stream",
     "text": [
      "Stage 1 : LinearDiscriminantAnalysis\n",
      "                    0.7333\n",
      "Stage 1 : GaussianNB\n",
      "                    0.7333\n",
      "Stage 1 : SVC\n",
      "                    0.9667\n",
      "Stage 1 : RandomForestClassifier\n",
      "                    0.9667\n",
      "Stage 1 : ExtraTreesClassifier\n",
      "                    0.9667\n",
      "Stage 2 : XGBClassifier\n",
      "                    1.0000\n"
     ]
    }
   ],
   "source": [
    "# MAE for test data\n",
    "print('Stage 1 : LinearDiscriminantAnalysis')\n",
    "print('                    {:.4f}'.format(accuracy_score(y_test, master.test_pred.LinearDiscriminantAnalysis)))\n",
    "print('Stage 1 : GaussianNB')\n",
    "print('                    {:.4f}'.format(accuracy_score(y_test, master.test_pred.GaussianNB)))\n",
    "print('Stage 1 : SVC')\n",
    "print('                    {:.4f}'.format(accuracy_score(y_test, master.test_pred.SVC)))\n",
    "print('Stage 1 : RandomForestClassifier')\n",
    "print('                    {:.4f}'.format(accuracy_score(y_test, master.test_pred.RandomForestClassifier)))\n",
    "print('Stage 1 : ExtraTreesClassifier')\n",
    "print('                    {:.4f}'.format(accuracy_score(y_test, master.test_pred.ExtraTreesClassifier)))\n",
    "print('Stage 2 : XGBClassifier')\n",
    "print('                    {:.4f}'.format(accuracy_score(y_test, model_2.test_pred)))"
   ]
  }
 ],
 "metadata": {
  "kernelspec": {
   "display_name": "Python 3",
   "language": "python",
   "name": "python3"
  },
  "language_info": {
   "codemirror_mode": {
    "name": "ipython",
    "version": 3
   },
   "file_extension": ".py",
   "mimetype": "text/x-python",
   "name": "python",
   "nbconvert_exporter": "python",
   "pygments_lexer": "ipython3",
   "version": "3.7.0"
  }
 },
 "nbformat": 4,
 "nbformat_minor": 2
}

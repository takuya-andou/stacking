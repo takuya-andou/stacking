{
 "cells": [
  {
   "cell_type": "markdown",
   "metadata": {},
   "source": [
    "# Classification (with class labels)\n",
    "***"
   ]
  },
  {
   "cell_type": "markdown",
   "metadata": {},
   "source": [
    "# Import Packages"
   ]
  },
  {
   "cell_type": "code",
   "execution_count": 1,
   "metadata": {},
   "outputs": [],
   "source": [
    "# for creating dataset\n",
    "from sklearn.datasets import load_iris\n",
    "from sklearn.model_selection import train_test_split\n",
    "\n",
    "# general import\n",
    "import pandas as pd\n",
    "import numpy as np\n",
    "from sklearn.metrics import accuracy_score\n",
    "\n",
    "# this package\n",
    "from stack import StackModel, StackMaster\n",
    "\n",
    "# models\n",
    "from sklearn.discriminant_analysis import LinearDiscriminantAnalysis\n",
    "from sklearn.naive_bayes import GaussianNB\n",
    "from sklearn.svm import SVC\n",
    "from sklearn.ensemble import RandomForestClassifier, ExtraTreesClassifier\n",
    "from xgboost import XGBClassifier"
   ]
  },
  {
   "cell_type": "markdown",
   "metadata": {},
   "source": [
    "# Create dataset"
   ]
  },
  {
   "cell_type": "code",
   "execution_count": 2,
   "metadata": {},
   "outputs": [],
   "source": [
    "iris = load_iris()\n",
    "X, y = iris.data, [iris.target_names[i] for i in iris.target]\n",
    "\n",
    "# Make train/test split\n",
    "# As usual in machine learning task we have X_train, y_train, and X_test\n",
    "X_train, X_test, y_train, y_test = train_test_split(X, y, test_size=0.2, random_state=0)\n",
    "\n",
    "# convert pandas dataframe or series\n",
    "X_train = pd.DataFrame(X_train, columns=iris.feature_names)\n",
    "X_test = pd.DataFrame(X_test, columns=iris.feature_names)\n",
    "y_train = pd.Series(y_train, name='species')\n",
    "y_test = pd.Series(y_test, name='species')"
   ]
  },
  {
   "cell_type": "markdown",
   "metadata": {},
   "source": [
    "# Fit stage 1 models"
   ]
  },
  {
   "cell_type": "code",
   "execution_count": 3,
   "metadata": {},
   "outputs": [
    {
     "name": "stderr",
     "output_type": "stream",
     "text": [
      "2019-09-22 22:56:10,996 - stack - INFO - LinearDiscriminantAnalysis start fit\n",
      "2019-09-22 22:56:11,057 - stack - INFO - LinearDiscriminantAnalysis end fit\n",
      "2019-09-22 22:56:11,061 - stack - INFO - LinearDiscriminantAnalysis save fit pkl\n",
      "2019-09-22 22:56:11,062 - stack - INFO - GaussianNB start fit\n",
      "2019-09-22 22:56:11,172 - stack - INFO - GaussianNB end fit\n",
      "2019-09-22 22:56:11,187 - stack - INFO - GaussianNB save fit pkl\n",
      "2019-09-22 22:56:11,189 - stack - INFO - SVC start fit\n",
      "2019-09-22 22:56:11,263 - stack - INFO - SVC end fit\n",
      "2019-09-22 22:56:11,267 - stack - INFO - SVC save fit pkl\n",
      "2019-09-22 22:56:11,268 - stack - INFO - RandomForestClassifier start fit\n",
      "2019-09-22 22:56:12,867 - stack - INFO - RandomForestClassifier end fit\n",
      "2019-09-22 22:56:12,903 - stack - INFO - RandomForestClassifier save fit pkl\n",
      "2019-09-22 22:56:12,905 - stack - INFO - ExtraTreesClassifier start fit\n",
      "2019-09-22 22:56:14,215 - stack - INFO - ExtraTreesClassifier end fit\n",
      "2019-09-22 22:56:14,249 - stack - INFO - ExtraTreesClassifier save fit pkl\n"
     ]
    }
   ],
   "source": [
    "# initialize models\n",
    "model_1 = [\n",
    "    StackModel(\n",
    "        model_name='LinearDiscriminantAnalysis',\n",
    "        model=LinearDiscriminantAnalysis(),\n",
    "        x_names=['sepal length (cm)', 'sepal width (cm)'],\n",
    "        regression=False),\n",
    "    StackModel(\n",
    "        model_name='GaussianNB',\n",
    "        model=GaussianNB(),\n",
    "        x_names=['sepal length (cm)', 'sepal width (cm)'],\n",
    "        regression=False),\n",
    "    StackModel(\n",
    "        model_name='SVC',\n",
    "        model=SVC(),\n",
    "        x_names=['petal length (cm)'],\n",
    "        regression=False),\n",
    "    StackModel(\n",
    "        model_name='RandomForestClassifier',\n",
    "        model=RandomForestClassifier(random_state=0, n_jobs=-1, n_estimators=100, max_depth=3),\n",
    "        regression=False),\n",
    "    StackModel(\n",
    "        model_name='ExtraTreesClassifier',\n",
    "        model=ExtraTreesClassifier(random_state=0, n_jobs=-1, n_estimators=100, max_depth=3),\n",
    "        regression=False)\n",
    "]\n",
    "\n",
    "# fit models\n",
    "master = StackMaster(models=model_1)\n",
    "master.fit(X_train, y_train, refit=True)"
   ]
  },
  {
   "cell_type": "code",
   "execution_count": 4,
   "metadata": {},
   "outputs": [
    {
     "data": {
      "text/html": [
       "<div>\n",
       "<style scoped>\n",
       "    .dataframe tbody tr th:only-of-type {\n",
       "        vertical-align: middle;\n",
       "    }\n",
       "\n",
       "    .dataframe tbody tr th {\n",
       "        vertical-align: top;\n",
       "    }\n",
       "\n",
       "    .dataframe thead th {\n",
       "        text-align: right;\n",
       "    }\n",
       "</style>\n",
       "<table border=\"1\" class=\"dataframe\">\n",
       "  <thead>\n",
       "    <tr style=\"text-align: right;\">\n",
       "      <th></th>\n",
       "      <th>LinearDiscriminantAnalysis</th>\n",
       "      <th>GaussianNB</th>\n",
       "      <th>SVC</th>\n",
       "      <th>RandomForestClassifier</th>\n",
       "      <th>ExtraTreesClassifier</th>\n",
       "    </tr>\n",
       "  </thead>\n",
       "  <tbody>\n",
       "    <tr>\n",
       "      <th>0</th>\n",
       "      <td>virginica</td>\n",
       "      <td>virginica</td>\n",
       "      <td>virginica</td>\n",
       "      <td>virginica</td>\n",
       "      <td>virginica</td>\n",
       "    </tr>\n",
       "    <tr>\n",
       "      <th>1</th>\n",
       "      <td>versicolor</td>\n",
       "      <td>setosa</td>\n",
       "      <td>versicolor</td>\n",
       "      <td>versicolor</td>\n",
       "      <td>versicolor</td>\n",
       "    </tr>\n",
       "    <tr>\n",
       "      <th>2</th>\n",
       "      <td>setosa</td>\n",
       "      <td>setosa</td>\n",
       "      <td>setosa</td>\n",
       "      <td>setosa</td>\n",
       "      <td>setosa</td>\n",
       "    </tr>\n",
       "    <tr>\n",
       "      <th>3</th>\n",
       "      <td>versicolor</td>\n",
       "      <td>versicolor</td>\n",
       "      <td>versicolor</td>\n",
       "      <td>virginica</td>\n",
       "      <td>virginica</td>\n",
       "    </tr>\n",
       "    <tr>\n",
       "      <th>4</th>\n",
       "      <td>virginica</td>\n",
       "      <td>virginica</td>\n",
       "      <td>virginica</td>\n",
       "      <td>virginica</td>\n",
       "      <td>virginica</td>\n",
       "    </tr>\n",
       "  </tbody>\n",
       "</table>\n",
       "</div>"
      ],
      "text/plain": [
       "  LinearDiscriminantAnalysis  GaussianNB         SVC RandomForestClassifier  \\\n",
       "0                  virginica   virginica   virginica              virginica   \n",
       "1                 versicolor      setosa  versicolor             versicolor   \n",
       "2                     setosa      setosa      setosa                 setosa   \n",
       "3                 versicolor  versicolor  versicolor              virginica   \n",
       "4                  virginica   virginica   virginica              virginica   \n",
       "\n",
       "  ExtraTreesClassifier  \n",
       "0            virginica  \n",
       "1           versicolor  \n",
       "2               setosa  \n",
       "3            virginica  \n",
       "4            virginica  "
      ]
     },
     "execution_count": 4,
     "metadata": {},
     "output_type": "execute_result"
    }
   ],
   "source": [
    "# look at the predicted train data\n",
    "master.S_train.head()"
   ]
  },
  {
   "cell_type": "markdown",
   "metadata": {},
   "source": [
    "# Fit Stage 2 model"
   ]
  },
  {
   "cell_type": "code",
   "execution_count": 5,
   "metadata": {},
   "outputs": [
    {
     "name": "stderr",
     "output_type": "stream",
     "text": [
      "2019-09-22 22:56:14,332 - stack - INFO - XGBClassifier start fit\n",
      "2019-09-22 22:56:14,618 - stack - INFO - XGBClassifier end fit\n",
      "2019-09-22 22:56:14,623 - stack - INFO - XGBClassifier save fit pkl\n"
     ]
    }
   ],
   "source": [
    "# initialize model\n",
    "model_2 = StackModel(\n",
    "    model_name='XGBClassifier',\n",
    "    model=XGBClassifier(random_state=0, n_jobs=-1, n_estimators=100, max_depth=3),\n",
    "    regression=False)\n",
    "\n",
    "# fit model\n",
    "model_2.fit(pd.get_dummies(master.S_train, drop_first=True), y_train, refit=True)"
   ]
  },
  {
   "cell_type": "code",
   "execution_count": 6,
   "metadata": {},
   "outputs": [
    {
     "data": {
      "text/plain": [
       "0     virginica\n",
       "1    versicolor\n",
       "2        setosa\n",
       "3     virginica\n",
       "4     virginica\n",
       "Name: XGBClassifier, dtype: object"
      ]
     },
     "execution_count": 6,
     "metadata": {},
     "output_type": "execute_result"
    }
   ],
   "source": [
    "# look at the predicted train data\n",
    "model_2.S_train.head()"
   ]
  },
  {
   "cell_type": "markdown",
   "metadata": {},
   "source": [
    "# Predict test data"
   ]
  },
  {
   "cell_type": "code",
   "execution_count": 7,
   "metadata": {},
   "outputs": [
    {
     "name": "stderr",
     "output_type": "stream",
     "text": [
      "2019-09-22 22:56:14,654 - stack - INFO - LinearDiscriminantAnalysis start predict\n",
      "2019-09-22 22:56:14,670 - stack - INFO - LinearDiscriminantAnalysis end predict\n",
      "2019-09-22 22:56:14,692 - stack - INFO - LinearDiscriminantAnalysis save pred pkl\n",
      "2019-09-22 22:56:14,697 - stack - INFO - GaussianNB start predict\n",
      "2019-09-22 22:56:14,726 - stack - INFO - GaussianNB end predict\n",
      "2019-09-22 22:56:14,729 - stack - INFO - GaussianNB save pred pkl\n",
      "2019-09-22 22:56:14,737 - stack - INFO - SVC start predict\n",
      "2019-09-22 22:56:14,786 - stack - INFO - SVC end predict\n",
      "2019-09-22 22:56:14,795 - stack - INFO - SVC save pred pkl\n",
      "2019-09-22 22:56:14,805 - stack - INFO - RandomForestClassifier start predict\n",
      "2019-09-22 22:56:15,369 - stack - INFO - RandomForestClassifier end predict\n",
      "2019-09-22 22:56:15,372 - stack - INFO - RandomForestClassifier save pred pkl\n",
      "2019-09-22 22:56:15,373 - stack - INFO - ExtraTreesClassifier start predict\n",
      "2019-09-22 22:56:15,912 - stack - INFO - ExtraTreesClassifier end predict\n",
      "2019-09-22 22:56:15,914 - stack - INFO - ExtraTreesClassifier save pred pkl\n",
      "2019-09-22 22:56:15,945 - stack - INFO - XGBClassifier start predict\n",
      "2019-09-22 22:56:15,973 - stack - INFO - XGBClassifier end predict\n",
      "2019-09-22 22:56:15,981 - stack - INFO - XGBClassifier save pred pkl\n"
     ]
    }
   ],
   "source": [
    "master.predict(X_test, repredict=True)\n",
    "model_2.predict(pd.get_dummies(master.S_test, drop_first=True), repredict=True)"
   ]
  },
  {
   "cell_type": "code",
   "execution_count": 8,
   "metadata": {},
   "outputs": [
    {
     "data": {
      "text/html": [
       "<div>\n",
       "<style scoped>\n",
       "    .dataframe tbody tr th:only-of-type {\n",
       "        vertical-align: middle;\n",
       "    }\n",
       "\n",
       "    .dataframe tbody tr th {\n",
       "        vertical-align: top;\n",
       "    }\n",
       "\n",
       "    .dataframe thead th {\n",
       "        text-align: right;\n",
       "    }\n",
       "</style>\n",
       "<table border=\"1\" class=\"dataframe\">\n",
       "  <thead>\n",
       "    <tr style=\"text-align: right;\">\n",
       "      <th></th>\n",
       "      <th>LinearDiscriminantAnalysis</th>\n",
       "      <th>GaussianNB</th>\n",
       "      <th>SVC</th>\n",
       "      <th>RandomForestClassifier</th>\n",
       "      <th>ExtraTreesClassifier</th>\n",
       "    </tr>\n",
       "  </thead>\n",
       "  <tbody>\n",
       "    <tr>\n",
       "      <th>0</th>\n",
       "      <td>versicolor</td>\n",
       "      <td>versicolor</td>\n",
       "      <td>virginica</td>\n",
       "      <td>virginica</td>\n",
       "      <td>virginica</td>\n",
       "    </tr>\n",
       "    <tr>\n",
       "      <th>1</th>\n",
       "      <td>versicolor</td>\n",
       "      <td>versicolor</td>\n",
       "      <td>versicolor</td>\n",
       "      <td>versicolor</td>\n",
       "      <td>versicolor</td>\n",
       "    </tr>\n",
       "    <tr>\n",
       "      <th>2</th>\n",
       "      <td>setosa</td>\n",
       "      <td>setosa</td>\n",
       "      <td>setosa</td>\n",
       "      <td>setosa</td>\n",
       "      <td>setosa</td>\n",
       "    </tr>\n",
       "    <tr>\n",
       "      <th>3</th>\n",
       "      <td>virginica</td>\n",
       "      <td>virginica</td>\n",
       "      <td>virginica</td>\n",
       "      <td>virginica</td>\n",
       "      <td>virginica</td>\n",
       "    </tr>\n",
       "    <tr>\n",
       "      <th>4</th>\n",
       "      <td>setosa</td>\n",
       "      <td>setosa</td>\n",
       "      <td>setosa</td>\n",
       "      <td>setosa</td>\n",
       "      <td>setosa</td>\n",
       "    </tr>\n",
       "  </tbody>\n",
       "</table>\n",
       "</div>"
      ],
      "text/plain": [
       "  LinearDiscriminantAnalysis  GaussianNB         SVC RandomForestClassifier  \\\n",
       "0                 versicolor  versicolor   virginica              virginica   \n",
       "1                 versicolor  versicolor  versicolor             versicolor   \n",
       "2                     setosa      setosa      setosa                 setosa   \n",
       "3                  virginica   virginica   virginica              virginica   \n",
       "4                     setosa      setosa      setosa                 setosa   \n",
       "\n",
       "  ExtraTreesClassifier  \n",
       "0            virginica  \n",
       "1           versicolor  \n",
       "2               setosa  \n",
       "3            virginica  \n",
       "4               setosa  "
      ]
     },
     "execution_count": 8,
     "metadata": {},
     "output_type": "execute_result"
    }
   ],
   "source": [
    "# look at the predicted test data\n",
    "master.S_test.head()"
   ]
  },
  {
   "cell_type": "code",
   "execution_count": 9,
   "metadata": {},
   "outputs": [
    {
     "data": {
      "text/plain": [
       "0     virginica\n",
       "1    versicolor\n",
       "2        setosa\n",
       "3     virginica\n",
       "4        setosa\n",
       "Name: XGBClassifier, dtype: object"
      ]
     },
     "execution_count": 9,
     "metadata": {},
     "output_type": "execute_result"
    }
   ],
   "source": [
    "# look at the predicted test data\n",
    "model_2.S_test.head()"
   ]
  },
  {
   "cell_type": "code",
   "execution_count": 10,
   "metadata": {},
   "outputs": [
    {
     "name": "stdout",
     "output_type": "stream",
     "text": [
      "Stage 1 : LinearDiscriminantAnalysis\n",
      "                    0.7333\n",
      "Stage 1 : GaussianNB\n",
      "                    0.7333\n",
      "Stage 1 : SVC\n",
      "                    0.9667\n",
      "Stage 1 : RandomForestClassifier\n",
      "                    0.9667\n",
      "Stage 1 : ExtraTreesClassifier\n",
      "                    0.9667\n",
      "Stage 2 : XGBClassifier\n",
      "                    1.0000\n"
     ]
    }
   ],
   "source": [
    "# accuracy_score for test data\n",
    "print('Stage 1 : LinearDiscriminantAnalysis')\n",
    "print('                    {:.4f}'.format(master.models['LinearDiscriminantAnalysis'].evaluate(y_test)))\n",
    "print('Stage 1 : GaussianNB')\n",
    "print('                    {:.4f}'.format(master.models['GaussianNB'].evaluate(y_test)))\n",
    "print('Stage 1 : SVC')\n",
    "print('                    {:.4f}'.format(master.models['SVC'].evaluate(y_test)))\n",
    "print('Stage 1 : RandomForestClassifier')\n",
    "print('                    {:.4f}'.format(master.models['RandomForestClassifier'].evaluate(y_test)))\n",
    "print('Stage 1 : ExtraTreesClassifier')\n",
    "print('                    {:.4f}'.format(master.models['ExtraTreesClassifier'].evaluate(y_test)))\n",
    "print('Stage 2 : XGBClassifier')\n",
    "print('                    {:.4f}'.format(model_2.evaluate(y_test)))"
   ]
  }
 ],
 "metadata": {
  "kernelspec": {
   "display_name": "Python 3",
   "language": "python",
   "name": "python3"
  },
  "language_info": {
   "codemirror_mode": {
    "name": "ipython",
    "version": 3
   },
   "file_extension": ".py",
   "mimetype": "text/x-python",
   "name": "python",
   "nbconvert_exporter": "python",
   "pygments_lexer": "ipython3",
   "version": "3.7.0"
  }
 },
 "nbformat": 4,
 "nbformat_minor": 2
}

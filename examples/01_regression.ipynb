{
 "cells": [
  {
   "cell_type": "markdown",
   "metadata": {},
   "source": [
    "# Regression\n",
    "***"
   ]
  },
  {
   "cell_type": "markdown",
   "metadata": {},
   "source": [
    "# Import Packages"
   ]
  },
  {
   "cell_type": "code",
   "execution_count": 1,
   "metadata": {},
   "outputs": [],
   "source": [
    "# for creating dataset\n",
    "from sklearn.datasets import load_boston\n",
    "from sklearn.model_selection import train_test_split\n",
    "\n",
    "# general import\n",
    "import pandas as pd\n",
    "import numpy as np\n",
    "from sklearn.metrics import mean_absolute_error\n",
    "\n",
    "# this package\n",
    "from stack import StackModel, StackMaster\n",
    "\n",
    "# models\n",
    "from sklearn.linear_model import LinearRegression, Ridge, Lasso\n",
    "from sklearn.ensemble import RandomForestRegressor, ExtraTreesRegressor\n",
    "from xgboost import XGBRegressor"
   ]
  },
  {
   "cell_type": "markdown",
   "metadata": {},
   "source": [
    "# Create dataset"
   ]
  },
  {
   "cell_type": "code",
   "execution_count": 2,
   "metadata": {},
   "outputs": [],
   "source": [
    "boston = load_boston()\n",
    "X, y = boston.data, boston.target\n",
    "\n",
    "# Make train/test split\n",
    "# As usual in machine learning task we have X_train, y_train, and X_test\n",
    "X_train, X_test, y_train, y_test = train_test_split(X, y, test_size=0.2, random_state=0)\n",
    "\n",
    "# convert pandas dataframe or series\n",
    "X_train = pd.DataFrame(X_train, columns=boston.feature_names)\n",
    "X_test = pd.DataFrame(X_test, columns=boston.feature_names)\n",
    "y_train = pd.Series(y_train, name='PRICE')\n",
    "y_test = pd.Series(y_test, name='PRICE')"
   ]
  },
  {
   "cell_type": "markdown",
   "metadata": {},
   "source": [
    "# Fit stage 1 models"
   ]
  },
  {
   "cell_type": "code",
   "execution_count": 3,
   "metadata": {},
   "outputs": [
    {
     "name": "stderr",
     "output_type": "stream",
     "text": [
      "2019-09-21 18:14:41,559 - stack - INFO - LinearRegression start fit\n",
      "2019-09-21 18:14:41,613 - stack - INFO - LinearRegression end fit\n",
      "2019-09-21 18:14:41,615 - stack - INFO - LinearRegression save fit pkl\n",
      "2019-09-21 18:14:41,627 - stack - INFO - Ridge start fit\n",
      "2019-09-21 18:14:41,699 - stack - INFO - Ridge end fit\n",
      "2019-09-21 18:14:41,708 - stack - INFO - Ridge save fit pkl\n",
      "2019-09-21 18:14:41,711 - stack - INFO - Lasso start fit\n",
      "2019-09-21 18:14:41,818 - stack - INFO - Lasso end fit\n",
      "2019-09-21 18:14:41,836 - stack - INFO - Lasso save fit pkl\n",
      "2019-09-21 18:14:41,837 - stack - INFO - RandomForestRegressor start fit\n",
      "2019-09-21 18:14:43,156 - stack - INFO - RandomForestRegressor end fit\n",
      "2019-09-21 18:14:43,240 - stack - INFO - RandomForestRegressor save fit pkl\n",
      "2019-09-21 18:14:43,241 - stack - INFO - ExtraTreesRegressor start fit\n",
      "2019-09-21 18:14:44,600 - stack - INFO - ExtraTreesRegressor end fit\n",
      "2019-09-21 18:14:44,627 - stack - INFO - ExtraTreesRegressor save fit pkl\n"
     ]
    }
   ],
   "source": [
    "# initialize models\n",
    "models_1 = [\n",
    "    StackModel(\n",
    "        model_name='LinearRegression',\n",
    "        model=LinearRegression,\n",
    "        x_names=['CRIM', 'ZN', 'INDUS', 'CHAS']),\n",
    "    StackModel(\n",
    "        model_name='Ridge',\n",
    "        model=Ridge,\n",
    "        x_names=['NOX', 'RM', 'AGE', 'DIS']),\n",
    "    StackModel(\n",
    "        model_name='Lasso',\n",
    "        model=Lasso,\n",
    "        x_names=['RAD', 'TAX', 'PTRATIO', 'B']),\n",
    "    StackModel(\n",
    "        model_name='RandomForestRegressor',\n",
    "        model=RandomForestRegressor,\n",
    "        params={'random_state': 0, 'n_jobs': -1, 'n_estimators': 100, 'max_depth': 3}),\n",
    "    StackModel(\n",
    "        model_name='ExtraTreesRegressor',\n",
    "        model=ExtraTreesRegressor,\n",
    "        params={'random_state': 0, 'n_jobs': -1, 'n_estimators': 100, 'max_depth': 3})\n",
    "]\n",
    "\n",
    "# fit models\n",
    "master = StackMaster(models=models_1)\n",
    "master.fit(X_train, y_train, refit=True)"
   ]
  },
  {
   "cell_type": "code",
   "execution_count": 4,
   "metadata": {},
   "outputs": [
    {
     "data": {
      "text/html": [
       "<div>\n",
       "<style scoped>\n",
       "    .dataframe tbody tr th:only-of-type {\n",
       "        vertical-align: middle;\n",
       "    }\n",
       "\n",
       "    .dataframe tbody tr th {\n",
       "        vertical-align: top;\n",
       "    }\n",
       "\n",
       "    .dataframe thead th {\n",
       "        text-align: right;\n",
       "    }\n",
       "</style>\n",
       "<table border=\"1\" class=\"dataframe\">\n",
       "  <thead>\n",
       "    <tr style=\"text-align: right;\">\n",
       "      <th></th>\n",
       "      <th>LinearRegression</th>\n",
       "      <th>Ridge</th>\n",
       "      <th>Lasso</th>\n",
       "      <th>RandomForestRegressor</th>\n",
       "      <th>ExtraTreesRegressor</th>\n",
       "    </tr>\n",
       "  </thead>\n",
       "  <tbody>\n",
       "    <tr>\n",
       "      <th>0</th>\n",
       "      <td>30.292733</td>\n",
       "      <td>27.572470</td>\n",
       "      <td>27.151510</td>\n",
       "      <td>27.096734</td>\n",
       "      <td>27.393825</td>\n",
       "    </tr>\n",
       "    <tr>\n",
       "      <th>1</th>\n",
       "      <td>22.065163</td>\n",
       "      <td>25.415399</td>\n",
       "      <td>23.100898</td>\n",
       "      <td>22.015542</td>\n",
       "      <td>22.187602</td>\n",
       "    </tr>\n",
       "    <tr>\n",
       "      <th>2</th>\n",
       "      <td>27.173329</td>\n",
       "      <td>28.548620</td>\n",
       "      <td>28.016604</td>\n",
       "      <td>27.244074</td>\n",
       "      <td>26.924984</td>\n",
       "    </tr>\n",
       "    <tr>\n",
       "      <th>3</th>\n",
       "      <td>24.710997</td>\n",
       "      <td>19.933657</td>\n",
       "      <td>29.612183</td>\n",
       "      <td>21.289207</td>\n",
       "      <td>21.726326</td>\n",
       "    </tr>\n",
       "    <tr>\n",
       "      <th>4</th>\n",
       "      <td>12.631813</td>\n",
       "      <td>12.883161</td>\n",
       "      <td>12.867917</td>\n",
       "      <td>11.822341</td>\n",
       "      <td>12.782818</td>\n",
       "    </tr>\n",
       "  </tbody>\n",
       "</table>\n",
       "</div>"
      ],
      "text/plain": [
       "   LinearRegression      Ridge      Lasso  RandomForestRegressor  \\\n",
       "0         30.292733  27.572470  27.151510              27.096734   \n",
       "1         22.065163  25.415399  23.100898              22.015542   \n",
       "2         27.173329  28.548620  28.016604              27.244074   \n",
       "3         24.710997  19.933657  29.612183              21.289207   \n",
       "4         12.631813  12.883161  12.867917              11.822341   \n",
       "\n",
       "   ExtraTreesRegressor  \n",
       "0            27.393825  \n",
       "1            22.187602  \n",
       "2            26.924984  \n",
       "3            21.726326  \n",
       "4            12.782818  "
      ]
     },
     "execution_count": 4,
     "metadata": {},
     "output_type": "execute_result"
    }
   ],
   "source": [
    "# look at the predicted train data\n",
    "master.train_pred.head()"
   ]
  },
  {
   "cell_type": "markdown",
   "metadata": {},
   "source": [
    "# Fit Stage 2 model"
   ]
  },
  {
   "cell_type": "code",
   "execution_count": 5,
   "metadata": {},
   "outputs": [
    {
     "name": "stderr",
     "output_type": "stream",
     "text": [
      "2019-09-21 18:14:44,738 - stack - INFO - XGBRegressor start fit\n",
      "2019-09-21 18:14:44,945 - stack - INFO - XGBRegressor end fit\n"
     ]
    },
    {
     "name": "stdout",
     "output_type": "stream",
     "text": [
      "[18:14:44] WARNING: src/objective/regression_obj.cu:152: reg:linear is now deprecated in favor of reg:squarederror.\n",
      "[18:14:44] WARNING: src/objective/regression_obj.cu:152: reg:linear is now deprecated in favor of reg:squarederror.\n",
      "[18:14:44] WARNING: src/objective/regression_obj.cu:152: reg:linear is now deprecated in favor of reg:squarederror.\n",
      "[18:14:44] WARNING: src/objective/regression_obj.cu:152: reg:linear is now deprecated in favor of reg:squarederror.\n",
      "[18:14:44] WARNING: src/objective/regression_obj.cu:152: reg:linear is now deprecated in favor of reg:squarederror.\n"
     ]
    },
    {
     "name": "stderr",
     "output_type": "stream",
     "text": [
      "2019-09-21 18:14:44,948 - stack - INFO - XGBRegressor save fit pkl\n"
     ]
    }
   ],
   "source": [
    "# initialize model\n",
    "model_2 = StackModel(\n",
    "    model_name='XGBRegressor', \n",
    "    model=XGBRegressor, \n",
    "    params={'random_state': 0, 'n_jobs': -1, 'n_estimators': 100, 'max_depth': 3})\n",
    "\n",
    "# fit model\n",
    "model_2.fit(master.train_pred, y_train, refit=True)"
   ]
  },
  {
   "cell_type": "code",
   "execution_count": 6,
   "metadata": {},
   "outputs": [
    {
     "data": {
      "text/plain": [
       "0    27.499838\n",
       "1    22.727331\n",
       "2    29.140097\n",
       "3    23.769829\n",
       "4    11.781913\n",
       "Name: XGBRegressor, dtype: float64"
      ]
     },
     "execution_count": 6,
     "metadata": {},
     "output_type": "execute_result"
    }
   ],
   "source": [
    "# look at the predicted train data\n",
    "model_2.train_pred.head()"
   ]
  },
  {
   "cell_type": "markdown",
   "metadata": {},
   "source": [
    "# Predict test data"
   ]
  },
  {
   "cell_type": "code",
   "execution_count": 7,
   "metadata": {},
   "outputs": [
    {
     "name": "stderr",
     "output_type": "stream",
     "text": [
      "2019-09-21 18:14:44,965 - stack - INFO - LinearRegression start predict\n",
      "2019-09-21 18:14:44,976 - stack - INFO - LinearRegression end predict\n",
      "2019-09-21 18:14:44,978 - stack - INFO - LinearRegression save pred pkl\n",
      "2019-09-21 18:14:44,979 - stack - INFO - Ridge start predict\n",
      "2019-09-21 18:14:44,989 - stack - INFO - Ridge end predict\n",
      "2019-09-21 18:14:44,991 - stack - INFO - Ridge save pred pkl\n",
      "2019-09-21 18:14:44,992 - stack - INFO - Lasso start predict\n",
      "2019-09-21 18:14:45,003 - stack - INFO - Lasso end predict\n",
      "2019-09-21 18:14:45,004 - stack - INFO - Lasso save pred pkl\n",
      "2019-09-21 18:14:45,005 - stack - INFO - RandomForestRegressor start predict\n",
      "2019-09-21 18:14:45,536 - stack - INFO - RandomForestRegressor end predict\n",
      "2019-09-21 18:14:45,539 - stack - INFO - RandomForestRegressor save pred pkl\n",
      "2019-09-21 18:14:45,540 - stack - INFO - ExtraTreesRegressor start predict\n",
      "2019-09-21 18:14:46,076 - stack - INFO - ExtraTreesRegressor end predict\n",
      "2019-09-21 18:14:46,078 - stack - INFO - ExtraTreesRegressor save pred pkl\n",
      "2019-09-21 18:14:46,084 - stack - INFO - XGBRegressor start predict\n",
      "2019-09-21 18:14:46,106 - stack - INFO - XGBRegressor end predict\n",
      "2019-09-21 18:14:46,110 - stack - INFO - XGBRegressor save pred pkl\n"
     ]
    }
   ],
   "source": [
    "master.predict(X_test, repredict=True)\n",
    "model_2.predict(master.test_pred, repredict=True)"
   ]
  },
  {
   "cell_type": "code",
   "execution_count": 8,
   "metadata": {},
   "outputs": [
    {
     "data": {
      "text/html": [
       "<div>\n",
       "<style scoped>\n",
       "    .dataframe tbody tr th:only-of-type {\n",
       "        vertical-align: middle;\n",
       "    }\n",
       "\n",
       "    .dataframe tbody tr th {\n",
       "        vertical-align: top;\n",
       "    }\n",
       "\n",
       "    .dataframe thead th {\n",
       "        text-align: right;\n",
       "    }\n",
       "</style>\n",
       "<table border=\"1\" class=\"dataframe\">\n",
       "  <thead>\n",
       "    <tr style=\"text-align: right;\">\n",
       "      <th></th>\n",
       "      <th>LinearRegression</th>\n",
       "      <th>Ridge</th>\n",
       "      <th>Lasso</th>\n",
       "      <th>RandomForestRegressor</th>\n",
       "      <th>ExtraTreesRegressor</th>\n",
       "    </tr>\n",
       "  </thead>\n",
       "  <tbody>\n",
       "    <tr>\n",
       "      <th>0</th>\n",
       "      <td>25.695274</td>\n",
       "      <td>27.370086</td>\n",
       "      <td>23.190610</td>\n",
       "      <td>23.891939</td>\n",
       "      <td>24.798830</td>\n",
       "    </tr>\n",
       "    <tr>\n",
       "      <th>1</th>\n",
       "      <td>16.645482</td>\n",
       "      <td>20.260903</td>\n",
       "      <td>17.051835</td>\n",
       "      <td>25.157991</td>\n",
       "      <td>20.954086</td>\n",
       "    </tr>\n",
       "    <tr>\n",
       "      <th>2</th>\n",
       "      <td>27.287732</td>\n",
       "      <td>21.684029</td>\n",
       "      <td>28.715042</td>\n",
       "      <td>21.549445</td>\n",
       "      <td>23.154109</td>\n",
       "    </tr>\n",
       "    <tr>\n",
       "      <th>3</th>\n",
       "      <td>12.542779</td>\n",
       "      <td>12.194879</td>\n",
       "      <td>17.663391</td>\n",
       "      <td>11.674114</td>\n",
       "      <td>13.451735</td>\n",
       "    </tr>\n",
       "    <tr>\n",
       "      <th>4</th>\n",
       "      <td>21.416366</td>\n",
       "      <td>24.053299</td>\n",
       "      <td>21.697774</td>\n",
       "      <td>21.378585</td>\n",
       "      <td>21.978077</td>\n",
       "    </tr>\n",
       "  </tbody>\n",
       "</table>\n",
       "</div>"
      ],
      "text/plain": [
       "   LinearRegression      Ridge      Lasso  RandomForestRegressor  \\\n",
       "0         25.695274  27.370086  23.190610              23.891939   \n",
       "1         16.645482  20.260903  17.051835              25.157991   \n",
       "2         27.287732  21.684029  28.715042              21.549445   \n",
       "3         12.542779  12.194879  17.663391              11.674114   \n",
       "4         21.416366  24.053299  21.697774              21.378585   \n",
       "\n",
       "   ExtraTreesRegressor  \n",
       "0            24.798830  \n",
       "1            20.954086  \n",
       "2            23.154109  \n",
       "3            13.451735  \n",
       "4            21.978077  "
      ]
     },
     "execution_count": 8,
     "metadata": {},
     "output_type": "execute_result"
    }
   ],
   "source": [
    "# look at the predicted test data\n",
    "master.test_pred.head()"
   ]
  },
  {
   "cell_type": "code",
   "execution_count": 9,
   "metadata": {},
   "outputs": [
    {
     "data": {
      "text/plain": [
       "0    22.907314\n",
       "1    24.427757\n",
       "2    21.578939\n",
       "3    11.538013\n",
       "4    21.501339\n",
       "Name: XGBRegressor, dtype: float32"
      ]
     },
     "execution_count": 9,
     "metadata": {},
     "output_type": "execute_result"
    }
   ],
   "source": [
    "# look at the predicted test data\n",
    "model_2.test_pred.head()"
   ]
  },
  {
   "cell_type": "code",
   "execution_count": 10,
   "metadata": {},
   "outputs": [
    {
     "name": "stdout",
     "output_type": "stream",
     "text": [
      "Stage 1 : LinearRegression\n",
      "                    6.0037\n",
      "Stage 1 : Ridge\n",
      "                    4.0124\n",
      "Stage 1 : Lasso\n",
      "                    5.9507\n",
      "Stage 1 : RandomForestRegressor\n",
      "                    3.0999\n",
      "Stage 1 : ExtraTreesRegressor\n",
      "                    3.5053\n",
      "Stage 2 : XGBRegressor\n",
      "                    2.9169\n"
     ]
    }
   ],
   "source": [
    "# MAE for test data\n",
    "print('Stage 1 : LinearRegression')\n",
    "print('                    {:.4f}'.format(mean_absolute_error(y_test, master.test_pred.LinearRegression)))\n",
    "print('Stage 1 : Ridge')\n",
    "print('                    {:.4f}'.format(mean_absolute_error(y_test, master.test_pred.Ridge)))\n",
    "print('Stage 1 : Lasso')\n",
    "print('                    {:.4f}'.format(mean_absolute_error(y_test, master.test_pred.Lasso)))\n",
    "print('Stage 1 : RandomForestRegressor')\n",
    "print('                    {:.4f}'.format(mean_absolute_error(y_test, master.test_pred.RandomForestRegressor)))\n",
    "print('Stage 1 : ExtraTreesRegressor')\n",
    "print('                    {:.4f}'.format(mean_absolute_error(y_test, master.test_pred.ExtraTreesRegressor)))\n",
    "print('Stage 2 : XGBRegressor')\n",
    "print('                    {:.4f}'.format(mean_absolute_error(y_test, model_2.test_pred)))"
   ]
  }
 ],
 "metadata": {
  "kernelspec": {
   "display_name": "Python 3",
   "language": "python",
   "name": "python3"
  },
  "language_info": {
   "codemirror_mode": {
    "name": "ipython",
    "version": 3
   },
   "file_extension": ".py",
   "mimetype": "text/x-python",
   "name": "python",
   "nbconvert_exporter": "python",
   "pygments_lexer": "ipython3",
   "version": "3.7.0"
  }
 },
 "nbformat": 4,
 "nbformat_minor": 2
}
